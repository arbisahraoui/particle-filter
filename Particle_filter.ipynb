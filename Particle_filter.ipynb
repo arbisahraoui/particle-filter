{
  "nbformat": 4,
  "nbformat_minor": 0,
  "metadata": {
    "colab": {
      "provenance": []
    },
    "kernelspec": {
      "name": "python3",
      "display_name": "Python 3"
    },
    "language_info": {
      "name": "python"
    }
  },
  "cells": [
    {
      "cell_type": "markdown",
      "source": [
        "# Particle Filter"
      ],
      "metadata": {
        "id": "OGxiJJBKnbeu"
      }
    },
    {
      "cell_type": "markdown",
      "source": [
        "A particle filter is a probabilistic estimation technique used in the field of Bayesian filtering and state estimation. It approximates the probability distribution of a system's state by representing it with a set of discrete, weighted particles (sample points). These particles evolve over time through a recursive process that incorporates measurements and dynamic models, allowing for effective tracking of dynamic systems with non-linear and non-Gaussian characteristics, such as object tracking in computer vision"
      ],
      "metadata": {
        "id": "AcgXZ2Iang-H"
      }
    },
    {
      "cell_type": "markdown",
      "source": [
        "Here we will implement a Particle Filter  for motion tracking"
      ],
      "metadata": {
        "id": "ZtwxJKYYojeN"
      }
    },
    {
      "cell_type": "code",
      "source": [
        "# imports\n",
        "import cv2\n",
        "import numpy as np"
      ],
      "metadata": {
        "id": "OTsn0ixNngEZ"
      },
      "execution_count": 83,
      "outputs": []
    },
    {
      "cell_type": "markdown",
      "source": [
        "**Display the Video**\n",
        "\n",
        "Create a function that reads the video. While the video is opened, we read the frames."
      ],
      "metadata": {
        "id": "sxWCz41Yn6ox"
      }
    },
    {
      "cell_type": "code",
      "source": [
        "def get_frames(filename):\n",
        "    video = cv2.VideoCapture(filename)\n",
        "    while video.isOpened():\n",
        "        ret, frame =video.read()\n",
        "        if ret:\n",
        "            yield frame\n",
        "        else:\n",
        "            break\n",
        "    video.release()\n",
        "    yield None"
      ],
      "metadata": {
        "id": "lzqavxHin2nZ"
      },
      "execution_count": 89,
      "outputs": []
    },
    {
      "cell_type": "markdown",
      "source": [
        "We begin by defining a function for particle visualization. Initially, we verify the existence of particles for display. If particles are present, we proceed to iterate through them, drawing circles at their respective pixel coordinates. Additionally, if a particle's location is available, we attempt to track it across the video and mark its position with a red circle."
      ],
      "metadata": {
        "id": "kYD4wsI2pIbA"
      }
    },
    {
      "cell_type": "code",
      "source": [
        "def display(frame, particles, location, NUM_PARTICLES):\n",
        "    if len(particles)> 0:\n",
        "        for i in range(NUM_PARTICLES):\n",
        "            x = int(particles[i,0])\n",
        "            y = int(particles[i,1])\n",
        "            cv2.circle(frame,(x,y),1,(0,255,0),1)\n",
        "    if len(location) > 0:\n",
        "        cv2.circle(frame,location,15,(0,0,255),5)\n",
        "    cv2.imshow(frame)\n",
        "    #stop the video if pressing the escape button\n",
        "    if cv2.waitKey(30)==27:\n",
        "        if cv2.waitKey(0)==27:\n",
        "            return True\n",
        "    return False\n",
        ""
      ],
      "metadata": {
        "id": "5tsNlQ-koAap"
      },
      "execution_count": 90,
      "outputs": []
    },
    {
      "cell_type": "markdown",
      "source": [
        "### **Intialize the particles**\n"
      ],
      "metadata": {
        "id": "C1nISmm8pUn_"
      }
    },
    {
      "cell_type": "markdown",
      "source": [
        "In order to initialize the particles, we have to estimate the state of the target, meaning its position and velocity within the video. At the beginning of the video, we don’t know that state. All we know is that the position should lie within the frame somewhere, and the velocity could be in any direction but not moving too fast."
      ],
      "metadata": {
        "id": "eXGgqOhNpiQa"
      }
    },
    {
      "cell_type": "code",
      "source": [
        "FILENAME = \"./video_test.mp4\"\n",
        "NUM_PARTICLES = 5000\n",
        "VEL_RANGE = 0.5\n",
        "frame_height = 720\n",
        "frame_width = 1280"
      ],
      "metadata": {
        "id": "jKhqPBgwpfuV"
      },
      "execution_count": 91,
      "outputs": []
    },
    {
      "cell_type": "markdown",
      "source": [
        "We start by initializing the number of total particles and the initial velocity range to be a pixel per frame.\n",
        "\n"
      ],
      "metadata": {
        "id": "x0gnp4ysqGfT"
      }
    },
    {
      "cell_type": "code",
      "source": [
        "def initialize_particles(NUM_PARTICLES= NUM_PARTICLES,frame_width= frame_height,frame_height=frame_height,VEL_RANGE=VEL_RANGE):\n",
        "    particles = np.random.rand(NUM_PARTICLES,4)\n",
        "    particles = particles * np.array((frame_width,frame_height, VEL_RANGE,VEL_RANGE))\n",
        "    particles[:,2:4] -= VEL_RANGE/2.0\n",
        "    return particles"
      ],
      "metadata": {
        "id": "P31vHoCopsjq"
      },
      "execution_count": 92,
      "outputs": []
    },
    {
      "cell_type": "markdown",
      "source": [
        "The particles are generated as an array, with each particle represented by a row consisting of four random numbers. The first two columns denote the particle's coordinates, constrained within the frame dimensions (ranging from zero to the frame size). The remaining two columns correspond to their velocities. Initially, the velocity is set at 0.5, with a centering adjustment to allow movement in both directions. This involves reducing the velocity range by half, effectively shifting velocities to be centered around zero.\n",
        "\n",
        "Let's display the results:\n",
        "\n",
        "- Define an empty list for the location of the particles\n",
        "- Initialize the particle\n",
        "- Display the results"
      ],
      "metadata": {
        "id": "uZK6zwjpqXgH"
      }
    },
    {
      "cell_type": "code",
      "source": [
        "location =[]\n",
        "particles = initialize_particles()\n",
        "\n",
        "for frame in get_frames(FILENAME):\n",
        "    if frame is None:\n",
        "      print('None')\n",
        "      break\n",
        "    terminate = display(frame, particles, location,NUM_PARTICLES)\n",
        "    if terminate:\n",
        "        break\n",
        "\n",
        "cv2.destroyAllWindows()"
      ],
      "metadata": {
        "id": "YsldVL3hqLix"
      },
      "execution_count": null,
      "outputs": []
    },
    {
      "cell_type": "markdown",
      "source": [
        "### **Moving Particles**"
      ],
      "metadata": {
        "id": "p-mUzX_wqvw3"
      }
    },
    {
      "cell_type": "markdown",
      "source": [
        "As you can see from the video, the particles are not moving during video playlback even though they have a velocity. We solve this by creating a function apply_velocity in which we increment the particle's x and y velocity component."
      ],
      "metadata": {
        "id": "bSeN9o40q09T"
      }
    },
    {
      "cell_type": "code",
      "source": [
        "def apply_velocity(particles):\n",
        "    particles[:,0] += particles[:,2]\n",
        "    particles[:,1] += particles[:,3]\n",
        "\n",
        "    return particles\n",
        "\n",
        "# Now, we can see the particles are moving according their velocity"
      ],
      "metadata": {
        "id": "JpcW5odgqhQy"
      },
      "execution_count": 34,
      "outputs": []
    },
    {
      "cell_type": "code",
      "source": [
        "location = []\n",
        "particles = initialize_particles()\n",
        "\n",
        "\n",
        "for frame in get_frames(FILENAME):\n",
        "    if frame is None: break\n",
        "    particles = apply_velocity(particles)\n",
        "\n",
        "    terminate = display(frame, particles, location, NUM_PARTICLES)\n",
        "    if terminate:\n",
        "        break\n",
        "\n",
        "cv2.destroyAllWindows()\n",
        ""
      ],
      "metadata": {
        "id": "5K6l76EXq3a6"
      },
      "execution_count": 35,
      "outputs": []
    },
    {
      "cell_type": "markdown",
      "source": [
        "### **Prevent Particles to fall off the edges**"
      ],
      "metadata": {
        "id": "gYKAqW36rCGQ"
      }
    },
    {
      "cell_type": "code",
      "source": [
        "# We prevent the particles to fall off the edges by putting some limit on the particles location.\n",
        "# To do so, we will loop over the particles and set an upper and lower boundaries on both x and y coordinates.\n",
        "\n",
        "def enforce_edges(particles):\n",
        "    for i in range(NUM_PARTICLES):\n",
        "        particles[i,0] = max(0,min(frame_width-1, particles[i,0]))\n",
        "        particles[i,1] = max(0,min(frame_height-1, particles[i,1]))\n",
        "    return particles"
      ],
      "metadata": {
        "id": "-ZyeARf2q9xk"
      },
      "execution_count": 36,
      "outputs": []
    },
    {
      "cell_type": "code",
      "source": [
        "# Display result\n",
        "\n",
        "location = []\n",
        "particles = initialize_particles()\n",
        "\n",
        "for frame in get_frames(FILENAME):\n",
        "    if frame is None: break\n",
        "    particles = apply_velocity(particles)\n",
        "    particles = enforce_edges(particles)\n",
        "    terminate = display(frame, particles, location,NUM_PARTICLES)\n",
        "    if terminate:\n",
        "        break\n",
        "\n",
        "cv2.destroyAllWindows()"
      ],
      "metadata": {
        "id": "pNhrL4TWrM33"
      },
      "execution_count": 37,
      "outputs": []
    },
    {
      "cell_type": "markdown",
      "source": [
        "### **Measure the quality of the particle**"
      ],
      "metadata": {
        "id": "5Ti0MFVUrX4q"
      }
    },
    {
      "cell_type": "markdown",
      "source": [
        "Imagine we aim to follow a person's elbow, which involves checking the color of the pixel beneath each particle and comparing it to the desired target color. To achieve this, we establish an array of zeros called \"errors\" to record the color disparities. We then proceed to examine every particle, calculating the color difference for each. This error is determined by computing the mean squared difference between the two colors."
      ],
      "metadata": {
        "id": "dB8T3nOTrg-F"
      }
    },
    {
      "cell_type": "code",
      "source": [
        "TARGET_COLOR = np.array((66,63, 105))\n",
        "\n",
        "def compute_errors(particles, frame):\n",
        "\n",
        "    errors = np.zeros(NUM_PARTICLES)\n",
        "    for i in range(NUM_PARTICLES):\n",
        "        x = int(particles[i,0])\n",
        "        y= int(particles[i,1])\n",
        "        pixel_color = frame[y, x, :]\n",
        "        errors[i] = np.sum((TARGET_COLOR - pixel_color)**2)\n",
        "\n",
        "    return errors"
      ],
      "metadata": {
        "id": "e-RTvVXZrRbI"
      },
      "execution_count": 38,
      "outputs": []
    },
    {
      "cell_type": "markdown",
      "source": [
        "### **Assign Weights**"
      ],
      "metadata": {
        "id": "pinTKbAArmpo"
      }
    },
    {
      "cell_type": "markdown",
      "source": [
        "\n",
        "The error plays a crucial role in determining the weight assigned to each particle. When the error is minimal, we desire a higher weight, indicating that a particle is positioned where the pixel color closely matches the target. To achieve this, we start by subtracting the errors array from the highest error value. Additionally, to prevent particles from clustering along the frame's edges, particles positioned at the edge are assigned a weight of zero."
      ],
      "metadata": {
        "id": "fYwBFzdSrxsR"
      }
    },
    {
      "cell_type": "code",
      "source": [
        "def compute_weights(errors):\n",
        "    weights = np.max(errors) - errors\n",
        "\n",
        "    weights[\n",
        "        (particles[:,0]==0) |\n",
        "        (particles[:,0]==frame_width-1) |\n",
        "        (particles[:,1]==0) |\n",
        "        (particles[:,1]==frame_height-1) ] = 0\n",
        "\n",
        "    return weights"
      ],
      "metadata": {
        "id": "jfH1w0s7rkPI"
      },
      "execution_count": 40,
      "outputs": []
    },
    {
      "cell_type": "markdown",
      "source": [
        "### **Resample the weights**"
      ],
      "metadata": {
        "id": "3qe3N6Kir6Fs"
      }
    },
    {
      "cell_type": "markdown",
      "source": [
        "\n",
        "By normalizing the weights to ensure their sum equals one, we can treat them as a probability distribution among the particles. Consequently, we construct a new particle array by sampling from the existing particles. Particles with high weights will have a greater likelihood of being selected multiple times, while those with low weights might not be chosen at all. This process is facilitated by the numpy function choice:\n",
        "\n",
        "- The first argument is the sampling range (NUM_PARTICLES)\n",
        "- The second argument is how many samples we have to take (we need as many sample as we have particles)\n",
        "- The third argument is the probability distribution"
      ],
      "metadata": {
        "id": "Ptt-54BYsEcJ"
      }
    },
    {
      "cell_type": "code",
      "source": [
        "def resample(particles, weights,NUM_PARTICLES):\n",
        "    probabilities = weights / np.sum(weights)\n",
        "    index_numbers = np.random.choice(\n",
        "        NUM_PARTICLES,\n",
        "        size=NUM_PARTICLES,\n",
        "        p=probabilities)\n",
        "    particles = particles[index_numbers, :]\n",
        "\n",
        "    x = np.mean(particles[:,0])\n",
        "    y = np.mean(particles[:,1])\n",
        "\n",
        "    return particles, [int(x), int(y)]"
      ],
      "metadata": {
        "id": "TXWjcKqbr0an"
      },
      "execution_count": 41,
      "outputs": []
    },
    {
      "cell_type": "markdown",
      "source": [
        "The best guess is the mean over the new particles array"
      ],
      "metadata": {
        "id": "TaTQoxTzsUmB"
      }
    },
    {
      "cell_type": "code",
      "source": [
        "particles = initialize_particles(NUM_PARTICLES,frame_width,frame_height,VEL_RANGE)\n",
        "\n",
        "for frame in get_frames(FILENAME):\n",
        "    if frame is None: break\n",
        "    particles = apply_velocity(particles)\n",
        "    particles = enforce_edges(particles)\n",
        "    errors = compute_errors(particles, frame)\n",
        "    weights = compute_weights(errors)\n",
        "    particles, location = resample(particles, weights,NUM_PARTICLES)\n",
        "\n",
        "    terminate = display(frame, particles, location,NUM_PARTICLES)\n",
        "    if terminate:\n",
        "        break\n",
        "\n",
        "cv2.destroyAllWindows()"
      ],
      "metadata": {
        "id": "-eqVs5j-sRu_"
      },
      "execution_count": 42,
      "outputs": []
    },
    {
      "cell_type": "markdown",
      "source": [
        "However it wasn't quite a pixel on the target. We need to locate the target and keep tracking the target, even if it moves around the frame or the lighting conditions change. The solution for this is to just add some noise."
      ],
      "metadata": {
        "id": "SLf4R_qDsvbh"
      }
    },
    {
      "cell_type": "code",
      "source": [
        "POS_SIGMA = 0.75 # standard deviation on position\n",
        "VEL_SIGMA = 0.1 # standard deviation on velocity\n",
        "\n",
        "def apply_noise(particles,POS_SIGMA,VEL_SIGMA,NUM_PARTICLES):\n",
        "    noise= np.concatenate(\n",
        "    (\n",
        "        np.random.normal(0.0, POS_SIGMA, (NUM_PARTICLES,1)),\n",
        "        np.random.normal(0.0, POS_SIGMA, (NUM_PARTICLES,1)),\n",
        "        np.random.normal(0.0, VEL_SIGMA, (NUM_PARTICLES,1)),\n",
        "        np.random.normal(0.0, VEL_SIGMA, (NUM_PARTICLES,1))\n",
        "\n",
        "    ),\n",
        "    axis=1)\n",
        "\n",
        "    particles += noise\n",
        "    return particles"
      ],
      "metadata": {
        "id": "M1pcHIoesYME"
      },
      "execution_count": 43,
      "outputs": []
    },
    {
      "cell_type": "code",
      "source": [
        "particles = initialize_particles(NUM_PARTICLES,frame_width,frame_height,VEL_RANGE)\n",
        "\n",
        "for frame in get_frames(FILENAME):\n",
        "    if frame is None: break\n",
        "    particles = apply_velocity(particles)\n",
        "    particles = enforce_edges(particles)\n",
        "    errors = compute_errors(particles, frame)\n",
        "    weights = compute_weights(errors)\n",
        "    particles, location = resample(particles, weights,NUM_PARTICLES)\n",
        "    particles = apply_noise(particles,POS_SIGMA,VEL_SIGMA,NUM_PARTICLES)\n",
        "\n",
        "    terminate = display(frame, particles, location,NUM_PARTICLES)\n",
        "    if terminate:\n",
        "        break\n",
        "\n",
        "cv2.destroyAllWindows()"
      ],
      "metadata": {
        "id": "ls26Rssqs3PD"
      },
      "execution_count": 44,
      "outputs": []
    },
    {
      "cell_type": "markdown",
      "source": [
        "From the result. It looks like the particle cloud is distributed along different subject and not drawn in the target. So we have to make the weights more sensitive to color differences. One possible solution is to square the weights."
      ],
      "metadata": {
        "id": "XqiPrByms7gF"
      }
    },
    {
      "cell_type": "code",
      "source": [
        "def compute_weights(errors):\n",
        "    weights = np.max(errors) - errors\n",
        "\n",
        "    weights[\n",
        "        (particles[:,0]==0) |\n",
        "        (particles[:,0]==frame_width-1) |\n",
        "        (particles[:,1]==0) |\n",
        "        (particles[:,1]==frame_height-1) ] = 0\n",
        "\n",
        "    weights = weights**2\n",
        "\n",
        "    return weights"
      ],
      "metadata": {
        "id": "X7fN1HLBs71S"
      },
      "execution_count": 45,
      "outputs": []
    },
    {
      "cell_type": "code",
      "source": [
        "particles = initialize_particles(NUM_PARTICLES,frame_width,frame_height,VEL_RANGE)\n",
        "\n",
        "for frame in get_frames(FILENAME):\n",
        "    if frame is None: break\n",
        "    particles = apply_velocity(particles)\n",
        "    particles = enforce_edges(particles)\n",
        "    errors = compute_errors(particles, frame)\n",
        "    weights = compute_weights(errors)\n",
        "    particles, location = resample(particles, weights,NUM_PARTICLES)\n",
        "    particles = apply_noise(particles,POS_SIGMA,VEL_SIGMA,NUM_PARTICLES)\n",
        "\n",
        "    terminate = display(frame, particles, location,NUM_PARTICLES)\n",
        "    if terminate:\n",
        "        break\n",
        "\n",
        "cv2.destroyAllWindows()"
      ],
      "metadata": {
        "id": "kXxZ17zTs_Js"
      },
      "execution_count": 46,
      "outputs": []
    },
    {
      "cell_type": "markdown",
      "source": [
        "Now, let's increase the power of the weights to 8.\n",
        "\n",
        "\n"
      ],
      "metadata": {
        "id": "QrTXaLKbtHA1"
      }
    },
    {
      "cell_type": "code",
      "source": [
        "def compute_weights(errors):\n",
        "    weights = np.max(errors) - errors\n",
        "\n",
        "    weights[\n",
        "        (particles[:,0]==0) |\n",
        "        (particles[:,0]==frame_width-1) |\n",
        "        (particles[:,1]==0) |\n",
        "        (particles[:,1]==frame_height-1) ] = 0\n",
        "\n",
        "    weights = weights**8\n",
        "\n",
        "    return weights"
      ],
      "metadata": {
        "id": "pT85awyetHXC"
      },
      "execution_count": 47,
      "outputs": []
    },
    {
      "cell_type": "code",
      "source": [
        "particles = initialize_particles(NUM_PARTICLES,frame_width,frame_height,VEL_RANGE)\n",
        "\n",
        "\n",
        "for frame in get_frames(FILENAME):\n",
        "    if frame is None: break\n",
        "    particles = apply_velocity(particles)\n",
        "    particles = enforce_edges(particles)\n",
        "    errors = compute_errors(particles, frame)\n",
        "    weights = compute_weights(errors)\n",
        "    particles, location = resample(particles, weights,NUM_PARTICLES)\n",
        "    particles = apply_noise(particles,POS_SIGMA,VEL_SIGMA,NUM_PARTICLES)\n",
        "\n",
        "    terminate = display(frame, particles, location,NUM_PARTICLES)\n",
        "    if terminate:\n",
        "        break\n",
        "\n",
        "cv2.destroyAllWindows()"
      ],
      "metadata": {
        "id": "ydW2DR9StQcl"
      },
      "execution_count": 48,
      "outputs": []
    },
    {
      "cell_type": "markdown",
      "source": [
        "Now, it is much better, but we have some spreading of particle cloud and it takes long time to go to the target."
      ],
      "metadata": {
        "id": "n1FIXpPXtcc2"
      }
    }
  ]
}